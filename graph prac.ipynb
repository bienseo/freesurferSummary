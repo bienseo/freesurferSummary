{
 "cells": [
  {
   "cell_type": "code",
   "execution_count": 9,
   "metadata": {
    "collapsed": false
   },
   "outputs": [
    {
     "name": "stdout",
     "output_type": "stream",
     "text": [
      "Populating the interactive namespace from numpy and matplotlib\n"
     ]
    }
   ],
   "source": [
    "import pandas as pd\n",
    "%pylab inline"
   ]
  },
  {
   "cell_type": "code",
   "execution_count": 2,
   "metadata": {
    "collapsed": false
   },
   "outputs": [
    {
     "name": "stdout",
     "output_type": "stream",
     "text": [
      "README.md               freesurfer_summary.py   freesurfer_summary.pyc  graph prac.ipynb        plot.py\r\n"
     ]
    }
   ],
   "source": [
    "ls"
   ]
  },
  {
   "cell_type": "code",
   "execution_count": 3,
   "metadata": {
    "collapsed": false
   },
   "outputs": [
    {
     "name": "stderr",
     "output_type": "stream",
     "text": [
      "/Users/kcho/Dropbox/Knowledges/python/virtualEnv/lib/python2.7/site-packages/matplotlib/__init__.py:1256: UserWarning:  This call to matplotlib.use() has no effect\n",
      "because the backend has already been chosen;\n",
      "matplotlib.use() must be called *before* pylab, matplotlib.pyplot,\n",
      "or matplotlib.backends is imported for the first time.\n",
      "\n",
      "  warnings.warn(_use_error_msg)\n"
     ]
    }
   ],
   "source": [
    "import freesurfer_summary"
   ]
  },
  {
   "cell_type": "code",
   "execution_count": 4,
   "metadata": {
    "collapsed": false
   },
   "outputs": [
    {
     "name": "stdout",
     "output_type": "stream",
     "text": [
      "/Users/kcho/T1/FREESURFER/tmp\n"
     ]
    }
   ],
   "source": [
    "cd ~/T1/FREESURFER/tmp/"
   ]
  },
  {
   "cell_type": "code",
   "execution_count": 5,
   "metadata": {
    "collapsed": false
   },
   "outputs": [
    {
     "name": "stdout",
     "output_type": "stream",
     "text": [
      "lh.insula.label  rh.insula.label  thick_kev.csv\r\n"
     ]
    }
   ],
   "source": [
    "ls"
   ]
  },
  {
   "cell_type": "code",
   "execution_count": 6,
   "metadata": {
    "collapsed": true
   },
   "outputs": [],
   "source": [
    "df = pd.read_csv('thick_kev.csv')"
   ]
  },
  {
   "cell_type": "code",
   "execution_count": 7,
   "metadata": {
    "collapsed": false
   },
   "outputs": [
    {
     "data": {
      "text/html": [
       "<div style=\"max-height:1000px;max-width:1500px;overflow:auto;\">\n",
       "<table border=\"1\" class=\"dataframe\">\n",
       "  <thead>\n",
       "    <tr style=\"text-align: right;\">\n",
       "      <th></th>\n",
       "      <th>Unnamed: 0</th>\n",
       "      <th>subroi</th>\n",
       "      <th>thickness</th>\n",
       "      <th>side</th>\n",
       "      <th>std</th>\n",
       "    </tr>\n",
       "  </thead>\n",
       "  <tbody>\n",
       "    <tr>\n",
       "      <th>0 </th>\n",
       "      <td>  0</td>\n",
       "      <td> lh_LPFC</td>\n",
       "      <td> 2.400</td>\n",
       "      <td> lh</td>\n",
       "      <td> 0.651</td>\n",
       "    </tr>\n",
       "    <tr>\n",
       "      <th>1 </th>\n",
       "      <td>  1</td>\n",
       "      <td>  lh_LTC</td>\n",
       "      <td> 2.887</td>\n",
       "      <td> lh</td>\n",
       "      <td> 0.776</td>\n",
       "    </tr>\n",
       "    <tr>\n",
       "      <th>2 </th>\n",
       "      <td>  2</td>\n",
       "      <td> lh_MPFC</td>\n",
       "      <td> 2.786</td>\n",
       "      <td> lh</td>\n",
       "      <td> 0.651</td>\n",
       "    </tr>\n",
       "    <tr>\n",
       "      <th>3 </th>\n",
       "      <td>  3</td>\n",
       "      <td>  lh_MTC</td>\n",
       "      <td> 2.798</td>\n",
       "      <td> lh</td>\n",
       "      <td> 0.720</td>\n",
       "    </tr>\n",
       "    <tr>\n",
       "      <th>4 </th>\n",
       "      <td>  4</td>\n",
       "      <td>  lh_OCC</td>\n",
       "      <td> 2.037</td>\n",
       "      <td> lh</td>\n",
       "      <td> 0.631</td>\n",
       "    </tr>\n",
       "    <tr>\n",
       "      <th>5 </th>\n",
       "      <td>  5</td>\n",
       "      <td>  lh_OFC</td>\n",
       "      <td> 2.612</td>\n",
       "      <td> lh</td>\n",
       "      <td> 0.840</td>\n",
       "    </tr>\n",
       "    <tr>\n",
       "      <th>6 </th>\n",
       "      <td>  6</td>\n",
       "      <td>   lh_PC</td>\n",
       "      <td> 2.361</td>\n",
       "      <td> lh</td>\n",
       "      <td> 0.663</td>\n",
       "    </tr>\n",
       "    <tr>\n",
       "      <th>7 </th>\n",
       "      <td>  7</td>\n",
       "      <td>  lh_SMC</td>\n",
       "      <td> 2.383</td>\n",
       "      <td> lh</td>\n",
       "      <td> 0.672</td>\n",
       "    </tr>\n",
       "    <tr>\n",
       "      <th>8 </th>\n",
       "      <td>  8</td>\n",
       "      <td> rh_LPFC</td>\n",
       "      <td> 2.550</td>\n",
       "      <td> rh</td>\n",
       "      <td> 0.620</td>\n",
       "    </tr>\n",
       "    <tr>\n",
       "      <th>9 </th>\n",
       "      <td>  9</td>\n",
       "      <td>  rh_LTC</td>\n",
       "      <td> 2.950</td>\n",
       "      <td> rh</td>\n",
       "      <td> 0.749</td>\n",
       "    </tr>\n",
       "    <tr>\n",
       "      <th>10</th>\n",
       "      <td> 10</td>\n",
       "      <td> rh_MPFC</td>\n",
       "      <td> 2.875</td>\n",
       "      <td> rh</td>\n",
       "      <td> 0.753</td>\n",
       "    </tr>\n",
       "    <tr>\n",
       "      <th>11</th>\n",
       "      <td> 11</td>\n",
       "      <td>  rh_MTC</td>\n",
       "      <td> 2.815</td>\n",
       "      <td> rh</td>\n",
       "      <td> 0.789</td>\n",
       "    </tr>\n",
       "    <tr>\n",
       "      <th>12</th>\n",
       "      <td> 12</td>\n",
       "      <td>  rh_OCC</td>\n",
       "      <td> 2.041</td>\n",
       "      <td> rh</td>\n",
       "      <td> 0.653</td>\n",
       "    </tr>\n",
       "    <tr>\n",
       "      <th>13</th>\n",
       "      <td> 13</td>\n",
       "      <td>  rh_OFC</td>\n",
       "      <td> 2.719</td>\n",
       "      <td> rh</td>\n",
       "      <td> 0.665</td>\n",
       "    </tr>\n",
       "    <tr>\n",
       "      <th>14</th>\n",
       "      <td> 14</td>\n",
       "      <td>   rh_PC</td>\n",
       "      <td> 2.362</td>\n",
       "      <td> rh</td>\n",
       "      <td> 0.634</td>\n",
       "    </tr>\n",
       "    <tr>\n",
       "      <th>15</th>\n",
       "      <td> 15</td>\n",
       "      <td>  rh_SMC</td>\n",
       "      <td> 2.427</td>\n",
       "      <td> rh</td>\n",
       "      <td> 0.677</td>\n",
       "    </tr>\n",
       "  </tbody>\n",
       "</table>\n",
       "</div>"
      ],
      "text/plain": [
       "    Unnamed: 0   subroi  thickness side    std\n",
       "0            0  lh_LPFC      2.400   lh  0.651\n",
       "1            1   lh_LTC      2.887   lh  0.776\n",
       "2            2  lh_MPFC      2.786   lh  0.651\n",
       "3            3   lh_MTC      2.798   lh  0.720\n",
       "4            4   lh_OCC      2.037   lh  0.631\n",
       "5            5   lh_OFC      2.612   lh  0.840\n",
       "6            6    lh_PC      2.361   lh  0.663\n",
       "7            7   lh_SMC      2.383   lh  0.672\n",
       "8            8  rh_LPFC      2.550   rh  0.620\n",
       "9            9   rh_LTC      2.950   rh  0.749\n",
       "10          10  rh_MPFC      2.875   rh  0.753\n",
       "11          11   rh_MTC      2.815   rh  0.789\n",
       "12          12   rh_OCC      2.041   rh  0.653\n",
       "13          13   rh_OFC      2.719   rh  0.665\n",
       "14          14    rh_PC      2.362   rh  0.634\n",
       "15          15   rh_SMC      2.427   rh  0.677"
      ]
     },
     "execution_count": 7,
     "metadata": {},
     "output_type": "execute_result"
    }
   ],
   "source": [
    "df"
   ]
  },
  {
   "cell_type": "code",
   "execution_count": 10,
   "metadata": {
    "collapsed": false
   },
   "outputs": [
    {
     "data": {
      "image/png": "[encoded data removed]",
      "text/plain": [
       "<matplotlib.figure.Figure at 0x10ccb7cd0>"
      ]
     },
     "metadata": {},
     "output_type": "display_data"
    }
   ],
   "source": [
    "freesurfer_summary.draw_thickness(df,'haha')"
   ]
  },
  {
   "cell_type": "code",
   "execution_count": 16,
   "metadata": {
    "collapsed": false
   },
   "outputs": [],
   "source": [
    "df.head()\n",
    "df['roi'] = df.subroi.str[3:]"
   ]
  },
  {
   "cell_type": "code",
   "execution_count": 21,
   "metadata": {
    "collapsed": false
   },
   "outputs": [],
   "source": [
    "gb = df.groupby('roi')\n",
    "newDf = pd.concat([gb.get_group('LPFC'),\n",
    "                   gb.get_group('OFC'),\n",
    "                   gb.get_group('MPFC'),\n",
    "                   gb.get_group('LTC'),\n",
    "                   gb.get_group('MTC'),\n",
    "                   gb.get_group('SMC'),\n",
    "                   gb.get_group('PC'),\n",
    "                   gb.get_group('OCC')])"
   ]
  },
  {
   "cell_type": "code",
   "execution_count": 22,
   "metadata": {
    "collapsed": false
   },
   "outputs": [
    {
     "data": {
      "text/plain": [
       "<matplotlib.legend.Legend at 0x110a77810>"
      ]
     },
     "execution_count": 22,
     "metadata": {},
     "output_type": "execute_result"
    },
    {
     "data": {
      "image/png": "[encoded data removed]",
      "text/plain": [
       "<matplotlib.figure.Figure at 0x1109f5a10>"
      ]
     },
     "metadata": {},
     "output_type": "display_data"
    }
   ],
   "source": [
    "thicknessDf = newDf\n",
    "\n",
    "\n",
    "subjName = 'ha'\n",
    "\n",
    "gb = thicknessDf.groupby('side')\n",
    "label = thicknessDf.subroi.str[3:].unique()\n",
    "\n",
    "fig = plt.figure(figsize=(10,5))\n",
    "fig.suptitle(\"Cortical thickness in eight regions\", fontsize=20)\n",
    "#plt.ylabel('Cortical thickness', fontsize=16)\n",
    "#plt.xticks(range(len(label)), label)\n",
    "\n",
    "lh_g = plt.subplot2grid((2,2),(0, 0), rowspan=2)\n",
    "rh_g = plt.subplot2grid((2,2),(0, 1), rowspan=2)\n",
    "#ax1 = fig.add_subplot(211)\n",
    "#ax2 = fig.add_subplot(212)\n",
    "lh_g.plot(gb.get_group('lh')['thickness'],'r',label=subjName)\n",
    "lh_g.set_xticklabels(label)\n",
    "lh_g.set_xlabel('Left', fontsize=16)\n",
    "lh_g.set_ylabel('Cortical thickness in mm', fontsize=16)\n",
    "lh_g.set_ylim(1.8, 3.2)\n",
    "lh_g.legend()\n",
    "\n",
    "\n",
    "rh_g.plot(gb.get_group('rh')['thickness'],'b',label=subjName)\n",
    "rh_g.set_xticklabels(label)\n",
    "rh_g.set_xlabel('Right', fontsize=16)\n",
    "rh_g.set_ylim(1.8, 3.2)\n",
    "rh_g.legend()\n"
   ]
  },
  {
   "cell_type": "code",
   "execution_count": 13,
   "metadata": {
    "collapsed": true
   },
   "outputs": [],
   "source": [
    "lh_g.xaxis.set_zorder?"
   ]
  },
  {
   "cell_type": "code",
   "execution_count": null,
   "metadata": {
    "collapsed": true
   },
   "outputs": [],
   "source": []
  }
 ],
 "metadata": {
  "kernelspec": {
   "display_name": "Python 2",
   "language": "python",
   "name": "python2"
  },
  "language_info": {
   "codemirror_mode": {
    "name": "ipython",
    "version": 2
   },
   "file_extension": ".py",
   "mimetype": "text/x-python",
   "name": "python",
   "nbconvert_exporter": "python",
   "pygments_lexer": "ipython2",
   "version": "2.7.6"
  }
 },
 "nbformat": 4,
 "nbformat_minor": 0
}
